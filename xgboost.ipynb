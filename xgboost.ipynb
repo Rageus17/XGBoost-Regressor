{
 "cells": [
  {
   "cell_type": "code",
   "execution_count": 478,
   "metadata": {},
   "outputs": [],
   "source": [
    "import warnings\n",
    "warnings.filterwarnings(\"ignore\")"
   ]
  },
  {
   "cell_type": "code",
   "execution_count": 479,
   "metadata": {
    "id": "4SVMmLgvs4Iz"
   },
   "outputs": [],
   "source": [
    "import numpy as np\n",
    "import pandas as pd\n",
    "from tvDatafeed import TvDatafeed, Interval\n",
    "from sklearn.preprocessing import MinMaxScaler\n",
    "import matplotlib.pyplot as plt\n",
    "from xgboost import XGBRegressor\n",
    "import mapie"
   ]
  },
  {
   "cell_type": "code",
   "execution_count": 480,
   "metadata": {
    "colab": {
     "base_uri": "https://localhost:8080/"
    },
    "id": "rBsX1bDXwYIQ",
    "outputId": "ba38a9c9-5289-4600-c210-16b69f1b6513"
   },
   "outputs": [
    {
     "name": "stderr",
     "output_type": "stream",
     "text": [
      "ERROR:tvDatafeed.main:error while signin\n",
      "WARNING:tvDatafeed.main:you are using nologin method, data you access may be limited\n"
     ]
    }
   ],
   "source": [
    "username = ''\n",
    "password = ''\n",
    "\n",
    "tv = TvDatafeed(username, password)"
   ]
  },
  {
   "cell_type": "code",
   "execution_count": 481,
   "metadata": {
    "id": "r_hstL5VwS5X"
   },
   "outputs": [],
   "source": [
    "data = tv.get_hist(symbol='ethusdt',exchange='BINANCE',interval=Interval.in_15_minute,n_bars=100000)"
   ]
  },
  {
   "cell_type": "code",
   "execution_count": 482,
   "metadata": {
    "colab": {
     "base_uri": "https://localhost:8080/",
     "height": 238
    },
    "id": "tQxncIRwwUkz",
    "outputId": "57a2dc02-451f-40f6-deb1-bfdcdae84386"
   },
   "outputs": [
    {
     "data": {
      "text/html": [
       "<div>\n",
       "<style scoped>\n",
       "    .dataframe tbody tr th:only-of-type {\n",
       "        vertical-align: middle;\n",
       "    }\n",
       "\n",
       "    .dataframe tbody tr th {\n",
       "        vertical-align: top;\n",
       "    }\n",
       "\n",
       "    .dataframe thead th {\n",
       "        text-align: right;\n",
       "    }\n",
       "</style>\n",
       "<table border=\"1\" class=\"dataframe\">\n",
       "  <thead>\n",
       "    <tr style=\"text-align: right;\">\n",
       "      <th></th>\n",
       "      <th>symbol</th>\n",
       "      <th>open</th>\n",
       "      <th>high</th>\n",
       "      <th>low</th>\n",
       "      <th>close</th>\n",
       "      <th>volume</th>\n",
       "    </tr>\n",
       "    <tr>\n",
       "      <th>datetime</th>\n",
       "      <th></th>\n",
       "      <th></th>\n",
       "      <th></th>\n",
       "      <th></th>\n",
       "      <th></th>\n",
       "      <th></th>\n",
       "    </tr>\n",
       "  </thead>\n",
       "  <tbody>\n",
       "    <tr>\n",
       "      <th>2024-07-01 07:00:00</th>\n",
       "      <td>BINANCE:ethusdt</td>\n",
       "      <td>3438.16</td>\n",
       "      <td>3440.00</td>\n",
       "      <td>3432.55</td>\n",
       "      <td>3435.74</td>\n",
       "      <td>1909.6668</td>\n",
       "    </tr>\n",
       "    <tr>\n",
       "      <th>2024-07-01 07:15:00</th>\n",
       "      <td>BINANCE:ethusdt</td>\n",
       "      <td>3435.74</td>\n",
       "      <td>3442.46</td>\n",
       "      <td>3435.02</td>\n",
       "      <td>3440.04</td>\n",
       "      <td>1486.3507</td>\n",
       "    </tr>\n",
       "    <tr>\n",
       "      <th>2024-07-01 07:30:00</th>\n",
       "      <td>BINANCE:ethusdt</td>\n",
       "      <td>3440.04</td>\n",
       "      <td>3444.74</td>\n",
       "      <td>3437.81</td>\n",
       "      <td>3441.63</td>\n",
       "      <td>1309.2402</td>\n",
       "    </tr>\n",
       "    <tr>\n",
       "      <th>2024-07-01 07:45:00</th>\n",
       "      <td>BINANCE:ethusdt</td>\n",
       "      <td>3441.62</td>\n",
       "      <td>3445.41</td>\n",
       "      <td>3439.54</td>\n",
       "      <td>3443.02</td>\n",
       "      <td>2108.7336</td>\n",
       "    </tr>\n",
       "    <tr>\n",
       "      <th>2024-07-01 08:00:00</th>\n",
       "      <td>BINANCE:ethusdt</td>\n",
       "      <td>3443.02</td>\n",
       "      <td>3490.50</td>\n",
       "      <td>3440.50</td>\n",
       "      <td>3490.48</td>\n",
       "      <td>15107.5772</td>\n",
       "    </tr>\n",
       "  </tbody>\n",
       "</table>\n",
       "</div>"
      ],
      "text/plain": [
       "                              symbol     open     high      low    close  \\\n",
       "datetime                                                                   \n",
       "2024-07-01 07:00:00  BINANCE:ethusdt  3438.16  3440.00  3432.55  3435.74   \n",
       "2024-07-01 07:15:00  BINANCE:ethusdt  3435.74  3442.46  3435.02  3440.04   \n",
       "2024-07-01 07:30:00  BINANCE:ethusdt  3440.04  3444.74  3437.81  3441.63   \n",
       "2024-07-01 07:45:00  BINANCE:ethusdt  3441.62  3445.41  3439.54  3443.02   \n",
       "2024-07-01 08:00:00  BINANCE:ethusdt  3443.02  3490.50  3440.50  3490.48   \n",
       "\n",
       "                         volume  \n",
       "datetime                         \n",
       "2024-07-01 07:00:00   1909.6668  \n",
       "2024-07-01 07:15:00   1486.3507  \n",
       "2024-07-01 07:30:00   1309.2402  \n",
       "2024-07-01 07:45:00   2108.7336  \n",
       "2024-07-01 08:00:00  15107.5772  "
      ]
     },
     "execution_count": 482,
     "metadata": {},
     "output_type": "execute_result"
    }
   ],
   "source": [
    "data.head()"
   ]
  },
  {
   "cell_type": "code",
   "execution_count": 483,
   "metadata": {
    "id": "KYGAawnTzonU"
   },
   "outputs": [],
   "source": [
    "X = data['close'].values\n",
    "X = X.astype('float32')\n",
    "# X = X.reshape(-1,1)"
   ]
  },
  {
   "cell_type": "code",
   "execution_count": 484,
   "metadata": {
    "id": "2DKN_0JXwkfz"
   },
   "outputs": [],
   "source": [
    "scaler = MinMaxScaler()\n",
    "X = scaler.fit_transform(X.reshape(-1, 1))"
   ]
  },
  {
   "cell_type": "code",
   "execution_count": 485,
   "metadata": {
    "id": "_tAmrb7vzC9B"
   },
   "outputs": [],
   "source": [
    "train_size = int(len(X) * 0.8)\n",
    "test_size = len(X) - train_size\n",
    "train, test = X[0:train_size,:], X[train_size:len(X),:]"
   ]
  },
  {
   "cell_type": "code",
   "execution_count": 486,
   "metadata": {
    "id": "8wMd_7MW0DZP"
   },
   "outputs": [],
   "source": [
    "# convert an array of values into a dataset matrix\n",
    "def create_dataset(dataset, look_back=3):\n",
    "\tdataX, dataY = [], []\n",
    "\tfor i in range(len(dataset)-look_back-1):\n",
    "\t\ta = dataset[i:(i+look_back), 0]\n",
    "\t\tdataX.append(a)\n",
    "\t\tdataY.append(dataset[i + look_back, 0])\n",
    "\treturn np.array(dataX), np.array(dataY)\n",
    "\n",
    "# reshape into X=t and Y=t+1\n",
    "look_back = 60\n",
    "trainX, trainY = create_dataset(train, look_back)\n",
    "testX, testY = create_dataset(test, look_back)"
   ]
  },
  {
   "cell_type": "code",
   "execution_count": 487,
   "metadata": {
    "id": "bCvRZcva1b93"
   },
   "outputs": [],
   "source": [
    "trainX = trainX.reshape(trainX.shape[0], 60)"
   ]
  },
  {
   "cell_type": "code",
   "execution_count": 488,
   "metadata": {},
   "outputs": [],
   "source": [
    "mod1 = XGBRegressor(learning_rate=0.1)"
   ]
  },
  {
   "cell_type": "code",
   "execution_count": 489,
   "metadata": {},
   "outputs": [
    {
     "data": {
      "text/plain": [
       "(5598,)"
      ]
     },
     "execution_count": 489,
     "metadata": {},
     "output_type": "execute_result"
    }
   ],
   "source": [
    "trainY.shape"
   ]
  },
  {
   "cell_type": "code",
   "execution_count": 490,
   "metadata": {
    "scrolled": true
   },
   "outputs": [
    {
     "data": {
      "text/html": [
       "<style>#sk-container-id-13 {\n",
       "  /* Definition of color scheme common for light and dark mode */\n",
       "  --sklearn-color-text: black;\n",
       "  --sklearn-color-line: gray;\n",
       "  /* Definition of color scheme for unfitted estimators */\n",
       "  --sklearn-color-unfitted-level-0: #fff5e6;\n",
       "  --sklearn-color-unfitted-level-1: #f6e4d2;\n",
       "  --sklearn-color-unfitted-level-2: #ffe0b3;\n",
       "  --sklearn-color-unfitted-level-3: chocolate;\n",
       "  /* Definition of color scheme for fitted estimators */\n",
       "  --sklearn-color-fitted-level-0: #f0f8ff;\n",
       "  --sklearn-color-fitted-level-1: #d4ebff;\n",
       "  --sklearn-color-fitted-level-2: #b3dbfd;\n",
       "  --sklearn-color-fitted-level-3: cornflowerblue;\n",
       "\n",
       "  /* Specific color for light theme */\n",
       "  --sklearn-color-text-on-default-background: var(--sg-text-color, var(--theme-code-foreground, var(--jp-content-font-color1, black)));\n",
       "  --sklearn-color-background: var(--sg-background-color, var(--theme-background, var(--jp-layout-color0, white)));\n",
       "  --sklearn-color-border-box: var(--sg-text-color, var(--theme-code-foreground, var(--jp-content-font-color1, black)));\n",
       "  --sklearn-color-icon: #696969;\n",
       "\n",
       "  @media (prefers-color-scheme: dark) {\n",
       "    /* Redefinition of color scheme for dark theme */\n",
       "    --sklearn-color-text-on-default-background: var(--sg-text-color, var(--theme-code-foreground, var(--jp-content-font-color1, white)));\n",
       "    --sklearn-color-background: var(--sg-background-color, var(--theme-background, var(--jp-layout-color0, #111)));\n",
       "    --sklearn-color-border-box: var(--sg-text-color, var(--theme-code-foreground, var(--jp-content-font-color1, white)));\n",
       "    --sklearn-color-icon: #878787;\n",
       "  }\n",
       "}\n",
       "\n",
       "#sk-container-id-13 {\n",
       "  color: var(--sklearn-color-text);\n",
       "}\n",
       "\n",
       "#sk-container-id-13 pre {\n",
       "  padding: 0;\n",
       "}\n",
       "\n",
       "#sk-container-id-13 input.sk-hidden--visually {\n",
       "  border: 0;\n",
       "  clip: rect(1px 1px 1px 1px);\n",
       "  clip: rect(1px, 1px, 1px, 1px);\n",
       "  height: 1px;\n",
       "  margin: -1px;\n",
       "  overflow: hidden;\n",
       "  padding: 0;\n",
       "  position: absolute;\n",
       "  width: 1px;\n",
       "}\n",
       "\n",
       "#sk-container-id-13 div.sk-dashed-wrapped {\n",
       "  border: 1px dashed var(--sklearn-color-line);\n",
       "  margin: 0 0.4em 0.5em 0.4em;\n",
       "  box-sizing: border-box;\n",
       "  padding-bottom: 0.4em;\n",
       "  background-color: var(--sklearn-color-background);\n",
       "}\n",
       "\n",
       "#sk-container-id-13 div.sk-container {\n",
       "  /* jupyter's `normalize.less` sets `[hidden] { display: none; }`\n",
       "     but bootstrap.min.css set `[hidden] { display: none !important; }`\n",
       "     so we also need the `!important` here to be able to override the\n",
       "     default hidden behavior on the sphinx rendered scikit-learn.org.\n",
       "     See: https://github.com/scikit-learn/scikit-learn/issues/21755 */\n",
       "  display: inline-block !important;\n",
       "  position: relative;\n",
       "}\n",
       "\n",
       "#sk-container-id-13 div.sk-text-repr-fallback {\n",
       "  display: none;\n",
       "}\n",
       "\n",
       "div.sk-parallel-item,\n",
       "div.sk-serial,\n",
       "div.sk-item {\n",
       "  /* draw centered vertical line to link estimators */\n",
       "  background-image: linear-gradient(var(--sklearn-color-text-on-default-background), var(--sklearn-color-text-on-default-background));\n",
       "  background-size: 2px 100%;\n",
       "  background-repeat: no-repeat;\n",
       "  background-position: center center;\n",
       "}\n",
       "\n",
       "/* Parallel-specific style estimator block */\n",
       "\n",
       "#sk-container-id-13 div.sk-parallel-item::after {\n",
       "  content: \"\";\n",
       "  width: 100%;\n",
       "  border-bottom: 2px solid var(--sklearn-color-text-on-default-background);\n",
       "  flex-grow: 1;\n",
       "}\n",
       "\n",
       "#sk-container-id-13 div.sk-parallel {\n",
       "  display: flex;\n",
       "  align-items: stretch;\n",
       "  justify-content: center;\n",
       "  background-color: var(--sklearn-color-background);\n",
       "  position: relative;\n",
       "}\n",
       "\n",
       "#sk-container-id-13 div.sk-parallel-item {\n",
       "  display: flex;\n",
       "  flex-direction: column;\n",
       "}\n",
       "\n",
       "#sk-container-id-13 div.sk-parallel-item:first-child::after {\n",
       "  align-self: flex-end;\n",
       "  width: 50%;\n",
       "}\n",
       "\n",
       "#sk-container-id-13 div.sk-parallel-item:last-child::after {\n",
       "  align-self: flex-start;\n",
       "  width: 50%;\n",
       "}\n",
       "\n",
       "#sk-container-id-13 div.sk-parallel-item:only-child::after {\n",
       "  width: 0;\n",
       "}\n",
       "\n",
       "/* Serial-specific style estimator block */\n",
       "\n",
       "#sk-container-id-13 div.sk-serial {\n",
       "  display: flex;\n",
       "  flex-direction: column;\n",
       "  align-items: center;\n",
       "  background-color: var(--sklearn-color-background);\n",
       "  padding-right: 1em;\n",
       "  padding-left: 1em;\n",
       "}\n",
       "\n",
       "\n",
       "/* Toggleable style: style used for estimator/Pipeline/ColumnTransformer box that is\n",
       "clickable and can be expanded/collapsed.\n",
       "- Pipeline and ColumnTransformer use this feature and define the default style\n",
       "- Estimators will overwrite some part of the style using the `sk-estimator` class\n",
       "*/\n",
       "\n",
       "/* Pipeline and ColumnTransformer style (default) */\n",
       "\n",
       "#sk-container-id-13 div.sk-toggleable {\n",
       "  /* Default theme specific background. It is overwritten whether we have a\n",
       "  specific estimator or a Pipeline/ColumnTransformer */\n",
       "  background-color: var(--sklearn-color-background);\n",
       "}\n",
       "\n",
       "/* Toggleable label */\n",
       "#sk-container-id-13 label.sk-toggleable__label {\n",
       "  cursor: pointer;\n",
       "  display: block;\n",
       "  width: 100%;\n",
       "  margin-bottom: 0;\n",
       "  padding: 0.5em;\n",
       "  box-sizing: border-box;\n",
       "  text-align: center;\n",
       "}\n",
       "\n",
       "#sk-container-id-13 label.sk-toggleable__label-arrow:before {\n",
       "  /* Arrow on the left of the label */\n",
       "  content: \"▸\";\n",
       "  float: left;\n",
       "  margin-right: 0.25em;\n",
       "  color: var(--sklearn-color-icon);\n",
       "}\n",
       "\n",
       "#sk-container-id-13 label.sk-toggleable__label-arrow:hover:before {\n",
       "  color: var(--sklearn-color-text);\n",
       "}\n",
       "\n",
       "/* Toggleable content - dropdown */\n",
       "\n",
       "#sk-container-id-13 div.sk-toggleable__content {\n",
       "  max-height: 0;\n",
       "  max-width: 0;\n",
       "  overflow: hidden;\n",
       "  text-align: left;\n",
       "  /* unfitted */\n",
       "  background-color: var(--sklearn-color-unfitted-level-0);\n",
       "}\n",
       "\n",
       "#sk-container-id-13 div.sk-toggleable__content.fitted {\n",
       "  /* fitted */\n",
       "  background-color: var(--sklearn-color-fitted-level-0);\n",
       "}\n",
       "\n",
       "#sk-container-id-13 div.sk-toggleable__content pre {\n",
       "  margin: 0.2em;\n",
       "  border-radius: 0.25em;\n",
       "  color: var(--sklearn-color-text);\n",
       "  /* unfitted */\n",
       "  background-color: var(--sklearn-color-unfitted-level-0);\n",
       "}\n",
       "\n",
       "#sk-container-id-13 div.sk-toggleable__content.fitted pre {\n",
       "  /* unfitted */\n",
       "  background-color: var(--sklearn-color-fitted-level-0);\n",
       "}\n",
       "\n",
       "#sk-container-id-13 input.sk-toggleable__control:checked~div.sk-toggleable__content {\n",
       "  /* Expand drop-down */\n",
       "  max-height: 200px;\n",
       "  max-width: 100%;\n",
       "  overflow: auto;\n",
       "}\n",
       "\n",
       "#sk-container-id-13 input.sk-toggleable__control:checked~label.sk-toggleable__label-arrow:before {\n",
       "  content: \"▾\";\n",
       "}\n",
       "\n",
       "/* Pipeline/ColumnTransformer-specific style */\n",
       "\n",
       "#sk-container-id-13 div.sk-label input.sk-toggleable__control:checked~label.sk-toggleable__label {\n",
       "  color: var(--sklearn-color-text);\n",
       "  background-color: var(--sklearn-color-unfitted-level-2);\n",
       "}\n",
       "\n",
       "#sk-container-id-13 div.sk-label.fitted input.sk-toggleable__control:checked~label.sk-toggleable__label {\n",
       "  background-color: var(--sklearn-color-fitted-level-2);\n",
       "}\n",
       "\n",
       "/* Estimator-specific style */\n",
       "\n",
       "/* Colorize estimator box */\n",
       "#sk-container-id-13 div.sk-estimator input.sk-toggleable__control:checked~label.sk-toggleable__label {\n",
       "  /* unfitted */\n",
       "  background-color: var(--sklearn-color-unfitted-level-2);\n",
       "}\n",
       "\n",
       "#sk-container-id-13 div.sk-estimator.fitted input.sk-toggleable__control:checked~label.sk-toggleable__label {\n",
       "  /* fitted */\n",
       "  background-color: var(--sklearn-color-fitted-level-2);\n",
       "}\n",
       "\n",
       "#sk-container-id-13 div.sk-label label.sk-toggleable__label,\n",
       "#sk-container-id-13 div.sk-label label {\n",
       "  /* The background is the default theme color */\n",
       "  color: var(--sklearn-color-text-on-default-background);\n",
       "}\n",
       "\n",
       "/* On hover, darken the color of the background */\n",
       "#sk-container-id-13 div.sk-label:hover label.sk-toggleable__label {\n",
       "  color: var(--sklearn-color-text);\n",
       "  background-color: var(--sklearn-color-unfitted-level-2);\n",
       "}\n",
       "\n",
       "/* Label box, darken color on hover, fitted */\n",
       "#sk-container-id-13 div.sk-label.fitted:hover label.sk-toggleable__label.fitted {\n",
       "  color: var(--sklearn-color-text);\n",
       "  background-color: var(--sklearn-color-fitted-level-2);\n",
       "}\n",
       "\n",
       "/* Estimator label */\n",
       "\n",
       "#sk-container-id-13 div.sk-label label {\n",
       "  font-family: monospace;\n",
       "  font-weight: bold;\n",
       "  display: inline-block;\n",
       "  line-height: 1.2em;\n",
       "}\n",
       "\n",
       "#sk-container-id-13 div.sk-label-container {\n",
       "  text-align: center;\n",
       "}\n",
       "\n",
       "/* Estimator-specific */\n",
       "#sk-container-id-13 div.sk-estimator {\n",
       "  font-family: monospace;\n",
       "  border: 1px dotted var(--sklearn-color-border-box);\n",
       "  border-radius: 0.25em;\n",
       "  box-sizing: border-box;\n",
       "  margin-bottom: 0.5em;\n",
       "  /* unfitted */\n",
       "  background-color: var(--sklearn-color-unfitted-level-0);\n",
       "}\n",
       "\n",
       "#sk-container-id-13 div.sk-estimator.fitted {\n",
       "  /* fitted */\n",
       "  background-color: var(--sklearn-color-fitted-level-0);\n",
       "}\n",
       "\n",
       "/* on hover */\n",
       "#sk-container-id-13 div.sk-estimator:hover {\n",
       "  /* unfitted */\n",
       "  background-color: var(--sklearn-color-unfitted-level-2);\n",
       "}\n",
       "\n",
       "#sk-container-id-13 div.sk-estimator.fitted:hover {\n",
       "  /* fitted */\n",
       "  background-color: var(--sklearn-color-fitted-level-2);\n",
       "}\n",
       "\n",
       "/* Specification for estimator info (e.g. \"i\" and \"?\") */\n",
       "\n",
       "/* Common style for \"i\" and \"?\" */\n",
       "\n",
       ".sk-estimator-doc-link,\n",
       "a:link.sk-estimator-doc-link,\n",
       "a:visited.sk-estimator-doc-link {\n",
       "  float: right;\n",
       "  font-size: smaller;\n",
       "  line-height: 1em;\n",
       "  font-family: monospace;\n",
       "  background-color: var(--sklearn-color-background);\n",
       "  border-radius: 1em;\n",
       "  height: 1em;\n",
       "  width: 1em;\n",
       "  text-decoration: none !important;\n",
       "  margin-left: 1ex;\n",
       "  /* unfitted */\n",
       "  border: var(--sklearn-color-unfitted-level-1) 1pt solid;\n",
       "  color: var(--sklearn-color-unfitted-level-1);\n",
       "}\n",
       "\n",
       ".sk-estimator-doc-link.fitted,\n",
       "a:link.sk-estimator-doc-link.fitted,\n",
       "a:visited.sk-estimator-doc-link.fitted {\n",
       "  /* fitted */\n",
       "  border: var(--sklearn-color-fitted-level-1) 1pt solid;\n",
       "  color: var(--sklearn-color-fitted-level-1);\n",
       "}\n",
       "\n",
       "/* On hover */\n",
       "div.sk-estimator:hover .sk-estimator-doc-link:hover,\n",
       ".sk-estimator-doc-link:hover,\n",
       "div.sk-label-container:hover .sk-estimator-doc-link:hover,\n",
       ".sk-estimator-doc-link:hover {\n",
       "  /* unfitted */\n",
       "  background-color: var(--sklearn-color-unfitted-level-3);\n",
       "  color: var(--sklearn-color-background);\n",
       "  text-decoration: none;\n",
       "}\n",
       "\n",
       "div.sk-estimator.fitted:hover .sk-estimator-doc-link.fitted:hover,\n",
       ".sk-estimator-doc-link.fitted:hover,\n",
       "div.sk-label-container:hover .sk-estimator-doc-link.fitted:hover,\n",
       ".sk-estimator-doc-link.fitted:hover {\n",
       "  /* fitted */\n",
       "  background-color: var(--sklearn-color-fitted-level-3);\n",
       "  color: var(--sklearn-color-background);\n",
       "  text-decoration: none;\n",
       "}\n",
       "\n",
       "/* Span, style for the box shown on hovering the info icon */\n",
       ".sk-estimator-doc-link span {\n",
       "  display: none;\n",
       "  z-index: 9999;\n",
       "  position: relative;\n",
       "  font-weight: normal;\n",
       "  right: .2ex;\n",
       "  padding: .5ex;\n",
       "  margin: .5ex;\n",
       "  width: min-content;\n",
       "  min-width: 20ex;\n",
       "  max-width: 50ex;\n",
       "  color: var(--sklearn-color-text);\n",
       "  box-shadow: 2pt 2pt 4pt #999;\n",
       "  /* unfitted */\n",
       "  background: var(--sklearn-color-unfitted-level-0);\n",
       "  border: .5pt solid var(--sklearn-color-unfitted-level-3);\n",
       "}\n",
       "\n",
       ".sk-estimator-doc-link.fitted span {\n",
       "  /* fitted */\n",
       "  background: var(--sklearn-color-fitted-level-0);\n",
       "  border: var(--sklearn-color-fitted-level-3);\n",
       "}\n",
       "\n",
       ".sk-estimator-doc-link:hover span {\n",
       "  display: block;\n",
       "}\n",
       "\n",
       "/* \"?\"-specific style due to the `<a>` HTML tag */\n",
       "\n",
       "#sk-container-id-13 a.estimator_doc_link {\n",
       "  float: right;\n",
       "  font-size: 1rem;\n",
       "  line-height: 1em;\n",
       "  font-family: monospace;\n",
       "  background-color: var(--sklearn-color-background);\n",
       "  border-radius: 1rem;\n",
       "  height: 1rem;\n",
       "  width: 1rem;\n",
       "  text-decoration: none;\n",
       "  /* unfitted */\n",
       "  color: var(--sklearn-color-unfitted-level-1);\n",
       "  border: var(--sklearn-color-unfitted-level-1) 1pt solid;\n",
       "}\n",
       "\n",
       "#sk-container-id-13 a.estimator_doc_link.fitted {\n",
       "  /* fitted */\n",
       "  border: var(--sklearn-color-fitted-level-1) 1pt solid;\n",
       "  color: var(--sklearn-color-fitted-level-1);\n",
       "}\n",
       "\n",
       "/* On hover */\n",
       "#sk-container-id-13 a.estimator_doc_link:hover {\n",
       "  /* unfitted */\n",
       "  background-color: var(--sklearn-color-unfitted-level-3);\n",
       "  color: var(--sklearn-color-background);\n",
       "  text-decoration: none;\n",
       "}\n",
       "\n",
       "#sk-container-id-13 a.estimator_doc_link.fitted:hover {\n",
       "  /* fitted */\n",
       "  background-color: var(--sklearn-color-fitted-level-3);\n",
       "}\n",
       "</style><div id=\"sk-container-id-13\" class=\"sk-top-container\"><div class=\"sk-text-repr-fallback\"><pre>XGBRegressor(base_score=None, booster=None, callbacks=None,\n",
       "             colsample_bylevel=None, colsample_bynode=None,\n",
       "             colsample_bytree=None, device=None, early_stopping_rounds=None,\n",
       "             enable_categorical=False, eval_metric=None, feature_types=None,\n",
       "             gamma=None, grow_policy=None, importance_type=None,\n",
       "             interaction_constraints=None, learning_rate=0.1, max_bin=None,\n",
       "             max_cat_threshold=None, max_cat_to_onehot=None,\n",
       "             max_delta_step=None, max_depth=None, max_leaves=None,\n",
       "             min_child_weight=None, missing=nan, monotone_constraints=None,\n",
       "             multi_strategy=None, n_estimators=None, n_jobs=None,\n",
       "             num_parallel_tree=None, random_state=None, ...)</pre><b>In a Jupyter environment, please rerun this cell to show the HTML representation or trust the notebook. <br />On GitHub, the HTML representation is unable to render, please try loading this page with nbviewer.org.</b></div><div class=\"sk-container\" hidden><div class=\"sk-item\"><div class=\"sk-estimator fitted sk-toggleable\"><input class=\"sk-toggleable__control sk-hidden--visually\" id=\"sk-estimator-id-13\" type=\"checkbox\" checked><label for=\"sk-estimator-id-13\" class=\"sk-toggleable__label fitted sk-toggleable__label-arrow fitted\">&nbsp;XGBRegressor<span class=\"sk-estimator-doc-link fitted\">i<span>Fitted</span></span></label><div class=\"sk-toggleable__content fitted\"><pre>XGBRegressor(base_score=None, booster=None, callbacks=None,\n",
       "             colsample_bylevel=None, colsample_bynode=None,\n",
       "             colsample_bytree=None, device=None, early_stopping_rounds=None,\n",
       "             enable_categorical=False, eval_metric=None, feature_types=None,\n",
       "             gamma=None, grow_policy=None, importance_type=None,\n",
       "             interaction_constraints=None, learning_rate=0.1, max_bin=None,\n",
       "             max_cat_threshold=None, max_cat_to_onehot=None,\n",
       "             max_delta_step=None, max_depth=None, max_leaves=None,\n",
       "             min_child_weight=None, missing=nan, monotone_constraints=None,\n",
       "             multi_strategy=None, n_estimators=None, n_jobs=None,\n",
       "             num_parallel_tree=None, random_state=None, ...)</pre></div> </div></div></div></div>"
      ],
      "text/plain": [
       "XGBRegressor(base_score=None, booster=None, callbacks=None,\n",
       "             colsample_bylevel=None, colsample_bynode=None,\n",
       "             colsample_bytree=None, device=None, early_stopping_rounds=None,\n",
       "             enable_categorical=False, eval_metric=None, feature_types=None,\n",
       "             gamma=None, grow_policy=None, importance_type=None,\n",
       "             interaction_constraints=None, learning_rate=0.1, max_bin=None,\n",
       "             max_cat_threshold=None, max_cat_to_onehot=None,\n",
       "             max_delta_step=None, max_depth=None, max_leaves=None,\n",
       "             min_child_weight=None, missing=nan, monotone_constraints=None,\n",
       "             multi_strategy=None, n_estimators=None, n_jobs=None,\n",
       "             num_parallel_tree=None, random_state=None, ...)"
      ]
     },
     "execution_count": 490,
     "metadata": {},
     "output_type": "execute_result"
    }
   ],
   "source": [
    "mod1.fit(trainX,trainY)"
   ]
  },
  {
   "cell_type": "code",
   "execution_count": 491,
   "metadata": {
    "colab": {
     "base_uri": "https://localhost:8080/"
    },
    "id": "s2OL1RMW2pVM",
    "outputId": "26d3bef1-95af-4ebc-f95a-ca1d2ac51c37"
   },
   "outputs": [],
   "source": [
    "prediction = mod1.predict(testX)\n",
    "prediction = scaler.inverse_transform(prediction.reshape(-1,1))"
   ]
  },
  {
   "cell_type": "code",
   "execution_count": 492,
   "metadata": {
    "colab": {
     "base_uri": "https://localhost:8080/"
    },
    "id": "dfI8Q7Zi43O9",
    "outputId": "220a61fb-862a-4622-b142-9258770df7de"
   },
   "outputs": [
    {
     "data": {
      "text/plain": [
       "1354"
      ]
     },
     "execution_count": 492,
     "metadata": {},
     "output_type": "execute_result"
    }
   ],
   "source": [
    "len(prediction)"
   ]
  },
  {
   "cell_type": "code",
   "execution_count": 493,
   "metadata": {
    "colab": {
     "base_uri": "https://localhost:8080/"
    },
    "id": "N2duAeEs2cSG",
    "outputId": "053e1787-31b9-4345-8f6f-92dab6067fe3"
   },
   "outputs": [],
   "source": [
    "train = data[:train_size + 60 + 1]\n",
    "test = data[train_size + 60 + 1::]\n",
    "test['Prediction'] = prediction"
   ]
  },
  {
   "cell_type": "code",
   "execution_count": 494,
   "metadata": {
    "colab": {
     "base_uri": "https://localhost:8080/",
     "height": 346
    },
    "id": "YPO1to3j3d_U",
    "outputId": "c88fa05b-88ce-4063-f068-5aa5435fdb86"
   },
   "outputs": [
    {
     "data": {
      "text/plain": [
       "[<matplotlib.lines.Line2D at 0x118a7da50>,\n",
       " <matplotlib.lines.Line2D at 0x118a77590>]"
      ]
     },
     "execution_count": 494,
     "metadata": {},
     "output_type": "execute_result"
    },
    {
     "data": {
      "image/png": "[encoded data removed]",
      "text/plain": [
       "<Figure size 1600x400 with 1 Axes>"
      ]
     },
     "metadata": {},
     "output_type": "display_data"
    }
   ],
   "source": [
    "plt.figure(figsize=(16, 4))\n",
    "plt.xlabel('Date')\n",
    "plt.ylabel('Price $ (USD)')\n",
    "plt.plot(train['close'])\n",
    "plt.plot(test[['close', 'Prediction']])"
   ]
  },
  {
   "cell_type": "code",
   "execution_count": 495,
   "metadata": {
    "colab": {
     "base_uri": "https://localhost:8080/"
    },
    "id": "6d-Op1NYDaC2",
    "outputId": "a84326ad-7c73-468e-c0c1-e90c9009df81"
   },
   "outputs": [
    {
     "data": {
      "text/plain": [
       "26.40733899701117"
      ]
     },
     "execution_count": 495,
     "metadata": {},
     "output_type": "execute_result"
    }
   ],
   "source": [
    "np.mean(np.abs(test['close'] - test['Prediction']))"
   ]
  },
  {
   "cell_type": "code",
   "execution_count": 496,
   "metadata": {},
   "outputs": [
    {
     "data": {
      "text/html": [
       "<div>\n",
       "<style scoped>\n",
       "    .dataframe tbody tr th:only-of-type {\n",
       "        vertical-align: middle;\n",
       "    }\n",
       "\n",
       "    .dataframe tbody tr th {\n",
       "        vertical-align: top;\n",
       "    }\n",
       "\n",
       "    .dataframe thead th {\n",
       "        text-align: right;\n",
       "    }\n",
       "</style>\n",
       "<table border=\"1\" class=\"dataframe\">\n",
       "  <thead>\n",
       "    <tr style=\"text-align: right;\">\n",
       "      <th></th>\n",
       "      <th>close</th>\n",
       "      <th>Prediction</th>\n",
       "      <th>open</th>\n",
       "      <th>action</th>\n",
       "      <th>gp</th>\n",
       "    </tr>\n",
       "    <tr>\n",
       "      <th>datetime</th>\n",
       "      <th></th>\n",
       "      <th></th>\n",
       "      <th></th>\n",
       "      <th></th>\n",
       "      <th></th>\n",
       "    </tr>\n",
       "  </thead>\n",
       "  <tbody>\n",
       "    <tr>\n",
       "      <th>2024-08-29 21:15:00</th>\n",
       "      <td>2564.79</td>\n",
       "      <td>2572.802734</td>\n",
       "      <td>2574.34</td>\n",
       "      <td>sell</td>\n",
       "      <td>0.003724</td>\n",
       "    </tr>\n",
       "    <tr>\n",
       "      <th>2024-08-29 21:30:00</th>\n",
       "      <td>2573.55</td>\n",
       "      <td>2577.939453</td>\n",
       "      <td>2564.80</td>\n",
       "      <td>buy</td>\n",
       "      <td>0.003412</td>\n",
       "    </tr>\n",
       "    <tr>\n",
       "      <th>2024-08-29 21:45:00</th>\n",
       "      <td>2569.56</td>\n",
       "      <td>2570.515137</td>\n",
       "      <td>2573.55</td>\n",
       "      <td>sell</td>\n",
       "      <td>0.001553</td>\n",
       "    </tr>\n",
       "    <tr>\n",
       "      <th>2024-08-29 22:00:00</th>\n",
       "      <td>2575.49</td>\n",
       "      <td>2573.327637</td>\n",
       "      <td>2569.55</td>\n",
       "      <td>buy</td>\n",
       "      <td>0.002312</td>\n",
       "    </tr>\n",
       "    <tr>\n",
       "      <th>2024-08-29 22:15:00</th>\n",
       "      <td>2583.01</td>\n",
       "      <td>2570.515137</td>\n",
       "      <td>2575.49</td>\n",
       "      <td>sell</td>\n",
       "      <td>-0.002911</td>\n",
       "    </tr>\n",
       "    <tr>\n",
       "      <th>...</th>\n",
       "      <td>...</td>\n",
       "      <td>...</td>\n",
       "      <td>...</td>\n",
       "      <td>...</td>\n",
       "      <td>...</td>\n",
       "    </tr>\n",
       "    <tr>\n",
       "      <th>2024-09-12 22:15:00</th>\n",
       "      <td>2319.00</td>\n",
       "      <td>2347.927979</td>\n",
       "      <td>2336.28</td>\n",
       "      <td>buy</td>\n",
       "      <td>-0.007396</td>\n",
       "    </tr>\n",
       "    <tr>\n",
       "      <th>2024-09-12 22:30:00</th>\n",
       "      <td>2320.26</td>\n",
       "      <td>2350.306396</td>\n",
       "      <td>2319.00</td>\n",
       "      <td>buy</td>\n",
       "      <td>0.000543</td>\n",
       "    </tr>\n",
       "    <tr>\n",
       "      <th>2024-09-12 22:45:00</th>\n",
       "      <td>2323.20</td>\n",
       "      <td>2350.423340</td>\n",
       "      <td>2320.25</td>\n",
       "      <td>buy</td>\n",
       "      <td>0.001271</td>\n",
       "    </tr>\n",
       "    <tr>\n",
       "      <th>2024-09-12 23:00:00</th>\n",
       "      <td>2330.61</td>\n",
       "      <td>2350.164062</td>\n",
       "      <td>2323.20</td>\n",
       "      <td>buy</td>\n",
       "      <td>0.003190</td>\n",
       "    </tr>\n",
       "    <tr>\n",
       "      <th>2024-09-12 23:15:00</th>\n",
       "      <td>2332.48</td>\n",
       "      <td>2355.099854</td>\n",
       "      <td>2330.68</td>\n",
       "      <td>buy</td>\n",
       "      <td>0.000772</td>\n",
       "    </tr>\n",
       "  </tbody>\n",
       "</table>\n",
       "<p>1353 rows × 5 columns</p>\n",
       "</div>"
      ],
      "text/plain": [
       "                       close   Prediction     open action        gp\n",
       "datetime                                                           \n",
       "2024-08-29 21:15:00  2564.79  2572.802734  2574.34   sell  0.003724\n",
       "2024-08-29 21:30:00  2573.55  2577.939453  2564.80    buy  0.003412\n",
       "2024-08-29 21:45:00  2569.56  2570.515137  2573.55   sell  0.001553\n",
       "2024-08-29 22:00:00  2575.49  2573.327637  2569.55    buy  0.002312\n",
       "2024-08-29 22:15:00  2583.01  2570.515137  2575.49   sell -0.002911\n",
       "...                      ...          ...      ...    ...       ...\n",
       "2024-09-12 22:15:00  2319.00  2347.927979  2336.28    buy -0.007396\n",
       "2024-09-12 22:30:00  2320.26  2350.306396  2319.00    buy  0.000543\n",
       "2024-09-12 22:45:00  2323.20  2350.423340  2320.25    buy  0.001271\n",
       "2024-09-12 23:00:00  2330.61  2350.164062  2323.20    buy  0.003190\n",
       "2024-09-12 23:15:00  2332.48  2355.099854  2330.68    buy  0.000772\n",
       "\n",
       "[1353 rows x 5 columns]"
      ]
     },
     "execution_count": 496,
     "metadata": {},
     "output_type": "execute_result"
    }
   ],
   "source": [
    "trade_df = test[['close','Prediction','open']]\n",
    "trade_df['action'] = np.where(trade_df.open>trade_df.Prediction,'sell','buy')\n",
    "trade_df['gp'] = np.where(trade_df.action=='buy',(trade_df.close-trade_df.open)/trade_df.open,(trade_df.open-trade_df.close)/trade_df.close)\n",
    "trade_df = trade_df.iloc[1:]\n",
    "\n",
    "trade_df"
   ]
  },
  {
   "cell_type": "code",
   "execution_count": 497,
   "metadata": {},
   "outputs": [
    {
     "data": {
      "text/plain": [
       "array([0.13461097], dtype=float32)"
      ]
     },
     "execution_count": 497,
     "metadata": {},
     "output_type": "execute_result"
    }
   ],
   "source": [
    "mod1.predict(X[-60:].reshape(1,-1))"
   ]
  },
  {
   "cell_type": "code",
   "execution_count": 498,
   "metadata": {},
   "outputs": [
    {
     "data": {
      "text/plain": [
       "array([[2893.56573018]])"
      ]
     },
     "execution_count": 498,
     "metadata": {},
     "output_type": "execute_result"
    }
   ],
   "source": [
    "scaler.inverse_transform(np.array([0.5261171]).reshape(-1,1))"
   ]
  },
  {
   "cell_type": "code",
   "execution_count": 499,
   "metadata": {},
   "outputs": [],
   "source": [
    "var =[]\n",
    "for i in range(len(trade_df.gp.values)):\n",
    "    var.append(np.quantile(trade_df.gp.iloc[:i+1],q=0.05))\n",
    "\n",
    "cvar = []\n",
    "for i in range(len(var)):\n",
    "    cvar.append(np.mean(var[:i]))"
   ]
  },
  {
   "cell_type": "code",
   "execution_count": 500,
   "metadata": {
    "scrolled": true
   },
   "outputs": [
    {
     "data": {
      "text/html": [
       "<div>\n",
       "<style scoped>\n",
       "    .dataframe tbody tr th:only-of-type {\n",
       "        vertical-align: middle;\n",
       "    }\n",
       "\n",
       "    .dataframe tbody tr th {\n",
       "        vertical-align: top;\n",
       "    }\n",
       "\n",
       "    .dataframe thead th {\n",
       "        text-align: right;\n",
       "    }\n",
       "</style>\n",
       "<table border=\"1\" class=\"dataframe\">\n",
       "  <thead>\n",
       "    <tr style=\"text-align: right;\">\n",
       "      <th></th>\n",
       "      <th>close</th>\n",
       "      <th>Prediction</th>\n",
       "      <th>open</th>\n",
       "      <th>action</th>\n",
       "      <th>gp</th>\n",
       "      <th>VaR</th>\n",
       "      <th>CVaR</th>\n",
       "      <th>E[R]</th>\n",
       "      <th>analysis</th>\n",
       "    </tr>\n",
       "    <tr>\n",
       "      <th>datetime</th>\n",
       "      <th></th>\n",
       "      <th></th>\n",
       "      <th></th>\n",
       "      <th></th>\n",
       "      <th></th>\n",
       "      <th></th>\n",
       "      <th></th>\n",
       "      <th></th>\n",
       "      <th></th>\n",
       "    </tr>\n",
       "  </thead>\n",
       "  <tbody>\n",
       "    <tr>\n",
       "      <th>2024-08-29 21:15:00</th>\n",
       "      <td>2564.79</td>\n",
       "      <td>2572.802734</td>\n",
       "      <td>2574.34</td>\n",
       "      <td>sell</td>\n",
       "      <td>0.003724</td>\n",
       "      <td>0.003724</td>\n",
       "      <td>0.003724</td>\n",
       "      <td>0.000598</td>\n",
       "      <td>bad RR</td>\n",
       "    </tr>\n",
       "    <tr>\n",
       "      <th>2024-08-29 21:30:00</th>\n",
       "      <td>2573.55</td>\n",
       "      <td>2577.939453</td>\n",
       "      <td>2564.80</td>\n",
       "      <td>buy</td>\n",
       "      <td>0.003412</td>\n",
       "      <td>0.003427</td>\n",
       "      <td>0.003724</td>\n",
       "      <td>0.005123</td>\n",
       "      <td>Good RR</td>\n",
       "    </tr>\n",
       "    <tr>\n",
       "      <th>2024-08-29 21:45:00</th>\n",
       "      <td>2569.56</td>\n",
       "      <td>2570.515137</td>\n",
       "      <td>2573.55</td>\n",
       "      <td>sell</td>\n",
       "      <td>0.001553</td>\n",
       "      <td>0.001739</td>\n",
       "      <td>0.003575</td>\n",
       "      <td>0.001181</td>\n",
       "      <td>bad RR</td>\n",
       "    </tr>\n",
       "    <tr>\n",
       "      <th>2024-08-29 22:00:00</th>\n",
       "      <td>2575.49</td>\n",
       "      <td>2573.327637</td>\n",
       "      <td>2569.55</td>\n",
       "      <td>buy</td>\n",
       "      <td>0.002312</td>\n",
       "      <td>0.001667</td>\n",
       "      <td>0.002963</td>\n",
       "      <td>0.001470</td>\n",
       "      <td>bad RR</td>\n",
       "    </tr>\n",
       "    <tr>\n",
       "      <th>2024-08-29 22:15:00</th>\n",
       "      <td>2583.01</td>\n",
       "      <td>2570.515137</td>\n",
       "      <td>2575.49</td>\n",
       "      <td>sell</td>\n",
       "      <td>-0.002911</td>\n",
       "      <td>-0.002019</td>\n",
       "      <td>0.002639</td>\n",
       "      <td>0.001935</td>\n",
       "      <td>Good RR</td>\n",
       "    </tr>\n",
       "    <tr>\n",
       "      <th>...</th>\n",
       "      <td>...</td>\n",
       "      <td>...</td>\n",
       "      <td>...</td>\n",
       "      <td>...</td>\n",
       "      <td>...</td>\n",
       "      <td>...</td>\n",
       "      <td>...</td>\n",
       "      <td>...</td>\n",
       "      <td>...</td>\n",
       "    </tr>\n",
       "    <tr>\n",
       "      <th>2024-09-12 22:15:00</th>\n",
       "      <td>2319.00</td>\n",
       "      <td>2347.927979</td>\n",
       "      <td>2336.28</td>\n",
       "      <td>buy</td>\n",
       "      <td>-0.007396</td>\n",
       "      <td>-0.004781</td>\n",
       "      <td>-0.004483</td>\n",
       "      <td>0.004986</td>\n",
       "      <td>Good RR</td>\n",
       "    </tr>\n",
       "    <tr>\n",
       "      <th>2024-09-12 22:30:00</th>\n",
       "      <td>2320.26</td>\n",
       "      <td>2350.306396</td>\n",
       "      <td>2319.00</td>\n",
       "      <td>buy</td>\n",
       "      <td>0.000543</td>\n",
       "      <td>-0.004780</td>\n",
       "      <td>-0.004483</td>\n",
       "      <td>0.013500</td>\n",
       "      <td>Good RR</td>\n",
       "    </tr>\n",
       "    <tr>\n",
       "      <th>2024-09-12 22:45:00</th>\n",
       "      <td>2323.20</td>\n",
       "      <td>2350.423340</td>\n",
       "      <td>2320.25</td>\n",
       "      <td>buy</td>\n",
       "      <td>0.001271</td>\n",
       "      <td>-0.004779</td>\n",
       "      <td>-0.004483</td>\n",
       "      <td>0.013004</td>\n",
       "      <td>Good RR</td>\n",
       "    </tr>\n",
       "    <tr>\n",
       "      <th>2024-09-12 23:00:00</th>\n",
       "      <td>2330.61</td>\n",
       "      <td>2350.164062</td>\n",
       "      <td>2323.20</td>\n",
       "      <td>buy</td>\n",
       "      <td>0.003190</td>\n",
       "      <td>-0.004778</td>\n",
       "      <td>-0.004484</td>\n",
       "      <td>0.011606</td>\n",
       "      <td>Good RR</td>\n",
       "    </tr>\n",
       "    <tr>\n",
       "      <th>2024-09-12 23:15:00</th>\n",
       "      <td>2332.48</td>\n",
       "      <td>2355.099854</td>\n",
       "      <td>2330.68</td>\n",
       "      <td>buy</td>\n",
       "      <td>0.000772</td>\n",
       "      <td>-0.004777</td>\n",
       "      <td>-0.004484</td>\n",
       "      <td>0.010478</td>\n",
       "      <td>Good RR</td>\n",
       "    </tr>\n",
       "  </tbody>\n",
       "</table>\n",
       "<p>1353 rows × 9 columns</p>\n",
       "</div>"
      ],
      "text/plain": [
       "                       close   Prediction     open action        gp       VaR  \\\n",
       "datetime                                                                        \n",
       "2024-08-29 21:15:00  2564.79  2572.802734  2574.34   sell  0.003724  0.003724   \n",
       "2024-08-29 21:30:00  2573.55  2577.939453  2564.80    buy  0.003412  0.003427   \n",
       "2024-08-29 21:45:00  2569.56  2570.515137  2573.55   sell  0.001553  0.001739   \n",
       "2024-08-29 22:00:00  2575.49  2573.327637  2569.55    buy  0.002312  0.001667   \n",
       "2024-08-29 22:15:00  2583.01  2570.515137  2575.49   sell -0.002911 -0.002019   \n",
       "...                      ...          ...      ...    ...       ...       ...   \n",
       "2024-09-12 22:15:00  2319.00  2347.927979  2336.28    buy -0.007396 -0.004781   \n",
       "2024-09-12 22:30:00  2320.26  2350.306396  2319.00    buy  0.000543 -0.004780   \n",
       "2024-09-12 22:45:00  2323.20  2350.423340  2320.25    buy  0.001271 -0.004779   \n",
       "2024-09-12 23:00:00  2330.61  2350.164062  2323.20    buy  0.003190 -0.004778   \n",
       "2024-09-12 23:15:00  2332.48  2355.099854  2330.68    buy  0.000772 -0.004777   \n",
       "\n",
       "                         CVaR      E[R] analysis  \n",
       "datetime                                          \n",
       "2024-08-29 21:15:00  0.003724  0.000598   bad RR  \n",
       "2024-08-29 21:30:00  0.003724  0.005123  Good RR  \n",
       "2024-08-29 21:45:00  0.003575  0.001181   bad RR  \n",
       "2024-08-29 22:00:00  0.002963  0.001470   bad RR  \n",
       "2024-08-29 22:15:00  0.002639  0.001935  Good RR  \n",
       "...                       ...       ...      ...  \n",
       "2024-09-12 22:15:00 -0.004483  0.004986  Good RR  \n",
       "2024-09-12 22:30:00 -0.004483  0.013500  Good RR  \n",
       "2024-09-12 22:45:00 -0.004483  0.013004  Good RR  \n",
       "2024-09-12 23:00:00 -0.004484  0.011606  Good RR  \n",
       "2024-09-12 23:15:00 -0.004484  0.010478  Good RR  \n",
       "\n",
       "[1353 rows x 9 columns]"
      ]
     },
     "execution_count": 500,
     "metadata": {},
     "output_type": "execute_result"
    }
   ],
   "source": [
    "trade_df['VaR'] = var\n",
    "cvar[0] = var[0]\n",
    "trade_df['CVaR'] = cvar\n",
    "trade_df['E[R]'] = np.where(trade_df.action=='buy',(trade_df.Prediction - trade_df.open)/trade_df.open,(-trade_df.Prediction + trade_df.open)/trade_df.Prediction)\n",
    "\n",
    "trade_df['analysis'] = np.where(trade_df.gp > trade_df['E[R]'],'bad RR','Good RR')\n",
    "trade_df"
   ]
  },
  {
   "cell_type": "code",
   "execution_count": 501,
   "metadata": {
    "scrolled": true
   },
   "outputs": [],
   "source": [
    "gp_var = []\n",
    "for i in range(len(trade_df)):\n",
    "    if trade_df.gp[i] > trade_df.VaR[i]:\n",
    "        gp_var.append(trade_df.gp[i])\n",
    "    else:\n",
    "        gp_var.append(trade_df.VaR[i])"
   ]
  },
  {
   "cell_type": "code",
   "execution_count": 502,
   "metadata": {
    "scrolled": true
   },
   "outputs": [],
   "source": [
    "gp_cvar = []\n",
    "for i in range(len(trade_df)):\n",
    "    if trade_df.gp[i] > trade_df.CVaR[i]:\n",
    "        gp_cvar.append(trade_df.gp[i])\n",
    "    else:\n",
    "        gp_cvar.append(trade_df.CVaR[i])"
   ]
  },
  {
   "cell_type": "code",
   "execution_count": 503,
   "metadata": {},
   "outputs": [
    {
     "name": "stdout",
     "output_type": "stream",
     "text": [
      "10227.214040892151\n"
     ]
    }
   ],
   "source": [
    "capital = 10000\n",
    "for i in trade_df.gp.values:\n",
    "    capital*=(1+i)\n",
    "print(capital)"
   ]
  },
  {
   "cell_type": "code",
   "execution_count": 504,
   "metadata": {},
   "outputs": [
    {
     "data": {
      "text/plain": [
       "(array([  2., 169., 468., 558., 121.,  20.,  11.,   2.,   0.,   2.]),\n",
       " array([-8.11919525e-03, -5.38963660e-03, -2.66007794e-03,  6.94807094e-05,\n",
       "         2.79903936e-03,  5.52859802e-03,  8.25815667e-03,  1.09877153e-02,\n",
       "         1.37172740e-02,  1.64468326e-02,  1.91763913e-02]),\n",
       " <BarContainer object of 10 artists>)"
      ]
     },
     "execution_count": 504,
     "metadata": {},
     "output_type": "execute_result"
    },
    {
     "data": {
      "image/png": "[encoded data removed]",
      "text/plain": [
       "<Figure size 640x480 with 1 Axes>"
      ]
     },
     "metadata": {},
     "output_type": "display_data"
    }
   ],
   "source": [
    "plt.hist(gp_var)"
   ]
  },
  {
   "cell_type": "code",
   "execution_count": 505,
   "metadata": {},
   "outputs": [
    {
     "name": "stdout",
     "output_type": "stream",
     "text": [
      "12999.508494822912\n"
     ]
    }
   ],
   "source": [
    "capital = 10000\n",
    "for i in gp_var:\n",
    "    capital*=(1+i)\n",
    "print(capital)"
   ]
  },
  {
   "cell_type": "code",
   "execution_count": 506,
   "metadata": {},
   "outputs": [
    {
     "name": "stdout",
     "output_type": "stream",
     "text": [
      "13862.702486417493\n"
     ]
    }
   ],
   "source": [
    "capital = 10000\n",
    "for i in gp_cvar:\n",
    "    capital*=(1+i)\n",
    "print(capital)"
   ]
  },
  {
   "cell_type": "code",
   "execution_count": 507,
   "metadata": {
    "colab": {
     "base_uri": "https://localhost:8080/",
     "height": 455
    },
    "id": "hZ_1iTj46BFi",
    "outputId": "a355fde6-0cd1-4325-e5b5-510e2a20c596"
   },
   "outputs": [
    {
     "data": {
      "text/html": [
       "<div>\n",
       "<style scoped>\n",
       "    .dataframe tbody tr th:only-of-type {\n",
       "        vertical-align: middle;\n",
       "    }\n",
       "\n",
       "    .dataframe tbody tr th {\n",
       "        vertical-align: top;\n",
       "    }\n",
       "\n",
       "    .dataframe thead th {\n",
       "        text-align: right;\n",
       "    }\n",
       "</style>\n",
       "<table border=\"1\" class=\"dataframe\">\n",
       "  <thead>\n",
       "    <tr style=\"text-align: right;\">\n",
       "      <th></th>\n",
       "      <th>close</th>\n",
       "      <th>Prediction</th>\n",
       "      <th>open</th>\n",
       "      <th>action</th>\n",
       "      <th>gp</th>\n",
       "      <th>VaR</th>\n",
       "      <th>CVaR</th>\n",
       "      <th>E[R]</th>\n",
       "      <th>analysis</th>\n",
       "    </tr>\n",
       "    <tr>\n",
       "      <th>datetime</th>\n",
       "      <th></th>\n",
       "      <th></th>\n",
       "      <th></th>\n",
       "      <th></th>\n",
       "      <th></th>\n",
       "      <th></th>\n",
       "      <th></th>\n",
       "      <th></th>\n",
       "      <th></th>\n",
       "    </tr>\n",
       "  </thead>\n",
       "  <tbody>\n",
       "    <tr>\n",
       "      <th>2024-09-12 22:15:00</th>\n",
       "      <td>2319.00</td>\n",
       "      <td>2347.927979</td>\n",
       "      <td>2336.28</td>\n",
       "      <td>buy</td>\n",
       "      <td>-0.007396</td>\n",
       "      <td>-0.004781</td>\n",
       "      <td>-0.004483</td>\n",
       "      <td>0.004986</td>\n",
       "      <td>Good RR</td>\n",
       "    </tr>\n",
       "    <tr>\n",
       "      <th>2024-09-12 22:30:00</th>\n",
       "      <td>2320.26</td>\n",
       "      <td>2350.306396</td>\n",
       "      <td>2319.00</td>\n",
       "      <td>buy</td>\n",
       "      <td>0.000543</td>\n",
       "      <td>-0.004780</td>\n",
       "      <td>-0.004483</td>\n",
       "      <td>0.013500</td>\n",
       "      <td>Good RR</td>\n",
       "    </tr>\n",
       "    <tr>\n",
       "      <th>2024-09-12 22:45:00</th>\n",
       "      <td>2323.20</td>\n",
       "      <td>2350.423340</td>\n",
       "      <td>2320.25</td>\n",
       "      <td>buy</td>\n",
       "      <td>0.001271</td>\n",
       "      <td>-0.004779</td>\n",
       "      <td>-0.004483</td>\n",
       "      <td>0.013004</td>\n",
       "      <td>Good RR</td>\n",
       "    </tr>\n",
       "    <tr>\n",
       "      <th>2024-09-12 23:00:00</th>\n",
       "      <td>2330.61</td>\n",
       "      <td>2350.164062</td>\n",
       "      <td>2323.20</td>\n",
       "      <td>buy</td>\n",
       "      <td>0.003190</td>\n",
       "      <td>-0.004778</td>\n",
       "      <td>-0.004484</td>\n",
       "      <td>0.011606</td>\n",
       "      <td>Good RR</td>\n",
       "    </tr>\n",
       "    <tr>\n",
       "      <th>2024-09-12 23:15:00</th>\n",
       "      <td>2332.48</td>\n",
       "      <td>2355.099854</td>\n",
       "      <td>2330.68</td>\n",
       "      <td>buy</td>\n",
       "      <td>0.000772</td>\n",
       "      <td>-0.004777</td>\n",
       "      <td>-0.004484</td>\n",
       "      <td>0.010478</td>\n",
       "      <td>Good RR</td>\n",
       "    </tr>\n",
       "  </tbody>\n",
       "</table>\n",
       "</div>"
      ],
      "text/plain": [
       "                       close   Prediction     open action        gp       VaR  \\\n",
       "datetime                                                                        \n",
       "2024-09-12 22:15:00  2319.00  2347.927979  2336.28    buy -0.007396 -0.004781   \n",
       "2024-09-12 22:30:00  2320.26  2350.306396  2319.00    buy  0.000543 -0.004780   \n",
       "2024-09-12 22:45:00  2323.20  2350.423340  2320.25    buy  0.001271 -0.004779   \n",
       "2024-09-12 23:00:00  2330.61  2350.164062  2323.20    buy  0.003190 -0.004778   \n",
       "2024-09-12 23:15:00  2332.48  2355.099854  2330.68    buy  0.000772 -0.004777   \n",
       "\n",
       "                         CVaR      E[R] analysis  \n",
       "datetime                                          \n",
       "2024-09-12 22:15:00 -0.004483  0.004986  Good RR  \n",
       "2024-09-12 22:30:00 -0.004483  0.013500  Good RR  \n",
       "2024-09-12 22:45:00 -0.004483  0.013004  Good RR  \n",
       "2024-09-12 23:00:00 -0.004484  0.011606  Good RR  \n",
       "2024-09-12 23:15:00 -0.004484  0.010478  Good RR  "
      ]
     },
     "execution_count": 507,
     "metadata": {},
     "output_type": "execute_result"
    }
   ],
   "source": [
    "trade_df.tail()"
   ]
  },
  {
   "cell_type": "code",
   "execution_count": 508,
   "metadata": {},
   "outputs": [
    {
     "data": {
      "text/plain": [
       "datetime\n",
       "2024-09-12 23:15:00    2319.547357\n",
       "dtype: float64"
      ]
     },
     "execution_count": 508,
     "metadata": {},
     "output_type": "execute_result"
    }
   ],
   "source": [
    "trade_df.tail(1).open*(1+trade_df.tail(1).VaR)"
   ]
  },
  {
   "cell_type": "code",
   "execution_count": 509,
   "metadata": {},
   "outputs": [
    {
     "data": {
      "text/plain": [
       "datetime\n",
       "2024-09-12 23:15:00    2320.229422\n",
       "dtype: float64"
      ]
     },
     "execution_count": 509,
     "metadata": {},
     "output_type": "execute_result"
    }
   ],
   "source": [
    "trade_df.tail(1).open*(1+trade_df.tail(1).CVaR)"
   ]
  },
  {
   "cell_type": "code",
   "execution_count": 510,
   "metadata": {},
   "outputs": [
    {
     "data": {
      "text/html": [
       "<div>\n",
       "<style scoped>\n",
       "    .dataframe tbody tr th:only-of-type {\n",
       "        vertical-align: middle;\n",
       "    }\n",
       "\n",
       "    .dataframe tbody tr th {\n",
       "        vertical-align: top;\n",
       "    }\n",
       "\n",
       "    .dataframe thead th {\n",
       "        text-align: right;\n",
       "    }\n",
       "</style>\n",
       "<table border=\"1\" class=\"dataframe\">\n",
       "  <thead>\n",
       "    <tr style=\"text-align: right;\">\n",
       "      <th></th>\n",
       "      <th>close</th>\n",
       "      <th>Prediction</th>\n",
       "      <th>open</th>\n",
       "      <th>gp</th>\n",
       "      <th>VaR</th>\n",
       "      <th>CVaR</th>\n",
       "      <th>E[R]</th>\n",
       "      <th>analysis</th>\n",
       "    </tr>\n",
       "    <tr>\n",
       "      <th>action</th>\n",
       "      <th></th>\n",
       "      <th></th>\n",
       "      <th></th>\n",
       "      <th></th>\n",
       "      <th></th>\n",
       "      <th></th>\n",
       "      <th></th>\n",
       "      <th></th>\n",
       "    </tr>\n",
       "  </thead>\n",
       "  <tbody>\n",
       "    <tr>\n",
       "      <th>buy</th>\n",
       "      <td>955</td>\n",
       "      <td>955</td>\n",
       "      <td>955</td>\n",
       "      <td>955</td>\n",
       "      <td>955</td>\n",
       "      <td>955</td>\n",
       "      <td>955</td>\n",
       "      <td>955</td>\n",
       "    </tr>\n",
       "    <tr>\n",
       "      <th>sell</th>\n",
       "      <td>398</td>\n",
       "      <td>398</td>\n",
       "      <td>398</td>\n",
       "      <td>398</td>\n",
       "      <td>398</td>\n",
       "      <td>398</td>\n",
       "      <td>398</td>\n",
       "      <td>398</td>\n",
       "    </tr>\n",
       "  </tbody>\n",
       "</table>\n",
       "</div>"
      ],
      "text/plain": [
       "        close  Prediction  open   gp  VaR  CVaR  E[R]  analysis\n",
       "action                                                         \n",
       "buy       955         955   955  955  955   955   955       955\n",
       "sell      398         398   398  398  398   398   398       398"
      ]
     },
     "execution_count": 510,
     "metadata": {},
     "output_type": "execute_result"
    }
   ],
   "source": [
    "trade_df.groupby('action').count()"
   ]
  },
  {
   "cell_type": "code",
   "execution_count": 511,
   "metadata": {},
   "outputs": [
    {
     "data": {
      "text/html": [
       "<div>\n",
       "<style scoped>\n",
       "    .dataframe tbody tr th:only-of-type {\n",
       "        vertical-align: middle;\n",
       "    }\n",
       "\n",
       "    .dataframe tbody tr th {\n",
       "        vertical-align: top;\n",
       "    }\n",
       "\n",
       "    .dataframe thead th {\n",
       "        text-align: right;\n",
       "    }\n",
       "</style>\n",
       "<table border=\"1\" class=\"dataframe\">\n",
       "  <thead>\n",
       "    <tr style=\"text-align: right;\">\n",
       "      <th></th>\n",
       "      <th>close</th>\n",
       "      <th>Prediction</th>\n",
       "      <th>open</th>\n",
       "      <th>action</th>\n",
       "      <th>gp</th>\n",
       "      <th>VaR</th>\n",
       "      <th>CVaR</th>\n",
       "      <th>E[R]</th>\n",
       "    </tr>\n",
       "    <tr>\n",
       "      <th>analysis</th>\n",
       "      <th></th>\n",
       "      <th></th>\n",
       "      <th></th>\n",
       "      <th></th>\n",
       "      <th></th>\n",
       "      <th></th>\n",
       "      <th></th>\n",
       "      <th></th>\n",
       "    </tr>\n",
       "  </thead>\n",
       "  <tbody>\n",
       "    <tr>\n",
       "      <th>Good RR</th>\n",
       "      <td>1188</td>\n",
       "      <td>1188</td>\n",
       "      <td>1188</td>\n",
       "      <td>1188</td>\n",
       "      <td>1188</td>\n",
       "      <td>1188</td>\n",
       "      <td>1188</td>\n",
       "      <td>1188</td>\n",
       "    </tr>\n",
       "    <tr>\n",
       "      <th>bad RR</th>\n",
       "      <td>165</td>\n",
       "      <td>165</td>\n",
       "      <td>165</td>\n",
       "      <td>165</td>\n",
       "      <td>165</td>\n",
       "      <td>165</td>\n",
       "      <td>165</td>\n",
       "      <td>165</td>\n",
       "    </tr>\n",
       "  </tbody>\n",
       "</table>\n",
       "</div>"
      ],
      "text/plain": [
       "          close  Prediction  open  action    gp   VaR  CVaR  E[R]\n",
       "analysis                                                         \n",
       "Good RR    1188        1188  1188    1188  1188  1188  1188  1188\n",
       "bad RR      165         165   165     165   165   165   165   165"
      ]
     },
     "execution_count": 511,
     "metadata": {},
     "output_type": "execute_result"
    }
   ],
   "source": [
    "trade_df.groupby('analysis').count()"
   ]
  },
  {
   "cell_type": "code",
   "execution_count": 512,
   "metadata": {},
   "outputs": [
    {
     "data": {
      "text/plain": [
       "2299.93255"
      ]
     },
     "execution_count": 512,
     "metadata": {},
     "output_type": "execute_result"
    }
   ],
   "source": [
    "2311.49*(1-0.5/100)"
   ]
  },
  {
   "cell_type": "code",
   "execution_count": 513,
   "metadata": {},
   "outputs": [
    {
     "data": {
      "text/plain": [
       "1353"
      ]
     },
     "execution_count": 513,
     "metadata": {},
     "output_type": "execute_result"
    }
   ],
   "source": [
    "len(gp_var)"
   ]
  },
  {
   "cell_type": "code",
   "execution_count": 514,
   "metadata": {},
   "outputs": [
    {
     "data": {
      "text/plain": [
       "26.696174984457734"
      ]
     },
     "execution_count": 514,
     "metadata": {},
     "output_type": "execute_result"
    }
   ],
   "source": [
    "sum(gp_var)*100"
   ]
  },
  {
   "cell_type": "code",
   "execution_count": 515,
   "metadata": {},
   "outputs": [
    {
     "data": {
      "text/plain": [
       "0.01973109754948835"
      ]
     },
     "execution_count": 515,
     "metadata": {},
     "output_type": "execute_result"
    }
   ],
   "source": [
    "np.mean(gp_var)*100"
   ]
  },
  {
   "cell_type": "code",
   "execution_count": 516,
   "metadata": {},
   "outputs": [
    {
     "data": {
      "text/plain": [
       "0.26126318013029104"
      ]
     },
     "execution_count": 516,
     "metadata": {},
     "output_type": "execute_result"
    }
   ],
   "source": [
    "np.std(gp_var)*100"
   ]
  }
 ],
 "metadata": {
  "accelerator": "GPU",
  "colab": {
   "gpuType": "T4",
   "provenance": [],
   "toc_visible": true
  },
  "kernelspec": {
   "display_name": "Python 3.11 (torch)",
   "language": "python",
   "name": "pytorch"
  },
  "language_info": {
   "codemirror_mode": {
    "name": "ipython",
    "version": 3
   },
   "file_extension": ".py",
   "mimetype": "text/x-python",
   "name": "python",
   "nbconvert_exporter": "python",
   "pygments_lexer": "ipython3",
   "version": "3.11.9"
  }
 },
 "nbformat": 4,
 "nbformat_minor": 4
}
