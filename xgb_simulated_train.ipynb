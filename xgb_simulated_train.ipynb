{
 "cells": [
  {
   "cell_type": "code",
   "execution_count": 6,
   "metadata": {},
   "outputs": [],
   "source": [
    "import warnings\n",
    "warnings.filterwarnings(\"ignore\")"
   ]
  },
  {
   "cell_type": "code",
   "execution_count": 7,
   "metadata": {
    "id": "4SVMmLgvs4Iz"
   },
   "outputs": [],
   "source": [
    "import numpy as np\n",
    "import pandas as pd\n",
    "from tvDatafeed import TvDatafeed, Interval\n",
    "from sklearn.preprocessing import MinMaxScaler\n",
    "import matplotlib.pyplot as plt\n",
    "from xgboost import XGBRegressor"
   ]
  },
  {
   "cell_type": "code",
   "execution_count": 8,
   "metadata": {
    "colab": {
     "base_uri": "https://localhost:8080/"
    },
    "id": "rBsX1bDXwYIQ",
    "outputId": "ba38a9c9-5289-4600-c210-16b69f1b6513"
   },
   "outputs": [
    {
     "name": "stderr",
     "output_type": "stream",
     "text": [
      "ERROR:tvDatafeed.main:error while signin\n",
      "WARNING:tvDatafeed.main:you are using nologin method, data you access may be limited\n"
     ]
    }
   ],
   "source": [
    "username = ''\n",
    "password = ''\n",
    "\n",
    "tv = TvDatafeed(username, password)"
   ]
  },
  {
   "cell_type": "code",
   "execution_count": 9,
   "metadata": {
    "id": "r_hstL5VwS5X"
   },
   "outputs": [],
   "source": [
    "df = tv.get_hist(symbol='ethusdt',exchange='BINANCE',interval=Interval.in_15_minute,n_bars=100000)\n",
    "# data = data.iloc[:-96]"
   ]
  },
  {
   "cell_type": "code",
   "execution_count": 10,
   "metadata": {
    "colab": {
     "base_uri": "https://localhost:8080/",
     "height": 238
    },
    "id": "tQxncIRwwUkz",
    "outputId": "57a2dc02-451f-40f6-deb1-bfdcdae84386",
    "scrolled": true
   },
   "outputs": [
    {
     "data": {
      "text/html": [
       "<div>\n",
       "<style scoped>\n",
       "    .dataframe tbody tr th:only-of-type {\n",
       "        vertical-align: middle;\n",
       "    }\n",
       "\n",
       "    .dataframe tbody tr th {\n",
       "        vertical-align: top;\n",
       "    }\n",
       "\n",
       "    .dataframe thead th {\n",
       "        text-align: right;\n",
       "    }\n",
       "</style>\n",
       "<table border=\"1\" class=\"dataframe\">\n",
       "  <thead>\n",
       "    <tr style=\"text-align: right;\">\n",
       "      <th></th>\n",
       "      <th>symbol</th>\n",
       "      <th>open</th>\n",
       "      <th>high</th>\n",
       "      <th>low</th>\n",
       "      <th>close</th>\n",
       "      <th>volume</th>\n",
       "    </tr>\n",
       "    <tr>\n",
       "      <th>datetime</th>\n",
       "      <th></th>\n",
       "      <th></th>\n",
       "      <th></th>\n",
       "      <th></th>\n",
       "      <th></th>\n",
       "      <th></th>\n",
       "    </tr>\n",
       "  </thead>\n",
       "  <tbody>\n",
       "    <tr>\n",
       "      <th>2024-09-16 10:15:00</th>\n",
       "      <td>BINANCE:ethusdt</td>\n",
       "      <td>2270.01</td>\n",
       "      <td>2276.04</td>\n",
       "      <td>2268.40</td>\n",
       "      <td>2272.67</td>\n",
       "      <td>6568.0908</td>\n",
       "    </tr>\n",
       "    <tr>\n",
       "      <th>2024-09-16 10:30:00</th>\n",
       "      <td>BINANCE:ethusdt</td>\n",
       "      <td>2272.67</td>\n",
       "      <td>2279.22</td>\n",
       "      <td>2272.23</td>\n",
       "      <td>2273.40</td>\n",
       "      <td>6367.7755</td>\n",
       "    </tr>\n",
       "    <tr>\n",
       "      <th>2024-09-16 10:45:00</th>\n",
       "      <td>BINANCE:ethusdt</td>\n",
       "      <td>2273.41</td>\n",
       "      <td>2278.98</td>\n",
       "      <td>2273.41</td>\n",
       "      <td>2278.38</td>\n",
       "      <td>4217.3971</td>\n",
       "    </tr>\n",
       "    <tr>\n",
       "      <th>2024-09-16 11:00:00</th>\n",
       "      <td>BINANCE:ethusdt</td>\n",
       "      <td>2278.38</td>\n",
       "      <td>2280.40</td>\n",
       "      <td>2276.10</td>\n",
       "      <td>2279.70</td>\n",
       "      <td>2925.6936</td>\n",
       "    </tr>\n",
       "    <tr>\n",
       "      <th>2024-09-16 11:15:00</th>\n",
       "      <td>BINANCE:ethusdt</td>\n",
       "      <td>2279.70</td>\n",
       "      <td>2282.55</td>\n",
       "      <td>2277.17</td>\n",
       "      <td>2280.20</td>\n",
       "      <td>1834.2687</td>\n",
       "    </tr>\n",
       "  </tbody>\n",
       "</table>\n",
       "</div>"
      ],
      "text/plain": [
       "                              symbol     open     high      low    close  \\\n",
       "datetime                                                                   \n",
       "2024-09-16 10:15:00  BINANCE:ethusdt  2270.01  2276.04  2268.40  2272.67   \n",
       "2024-09-16 10:30:00  BINANCE:ethusdt  2272.67  2279.22  2272.23  2273.40   \n",
       "2024-09-16 10:45:00  BINANCE:ethusdt  2273.41  2278.98  2273.41  2278.38   \n",
       "2024-09-16 11:00:00  BINANCE:ethusdt  2278.38  2280.40  2276.10  2279.70   \n",
       "2024-09-16 11:15:00  BINANCE:ethusdt  2279.70  2282.55  2277.17  2280.20   \n",
       "\n",
       "                        volume  \n",
       "datetime                        \n",
       "2024-09-16 10:15:00  6568.0908  \n",
       "2024-09-16 10:30:00  6367.7755  \n",
       "2024-09-16 10:45:00  4217.3971  \n",
       "2024-09-16 11:00:00  2925.6936  \n",
       "2024-09-16 11:15:00  1834.2687  "
      ]
     },
     "execution_count": 10,
     "metadata": {},
     "output_type": "execute_result"
    }
   ],
   "source": [
    "df.tail()"
   ]
  },
  {
   "cell_type": "code",
   "execution_count": 11,
   "metadata": {},
   "outputs": [],
   "source": [
    "def create_dataset(dataset, look_back=3):\n",
    "\tdataX, dataY = [], []\n",
    "\tfor i in range(len(dataset)-look_back-1):\n",
    "\t\ta = dataset[i:(i+look_back), 0]\n",
    "\t\tdataX.append(a)\n",
    "\t\tdataY.append(dataset[i + look_back, 0])\n",
    "\treturn np.array(dataX), np.array(dataY)"
   ]
  },
  {
   "cell_type": "markdown",
   "metadata": {},
   "source": [
    "# simulated trading"
   ]
  },
  {
   "cell_type": "code",
   "execution_count": 12,
   "metadata": {},
   "outputs": [
    {
     "data": {
      "text/plain": [
       "Timestamp('2024-09-15 14:00:00')"
      ]
     },
     "execution_count": 12,
     "metadata": {},
     "output_type": "execute_result"
    }
   ],
   "source": [
    "i=11\n",
    "df.iloc[:-96+i].copy().tail(1).index[0]"
   ]
  },
  {
   "cell_type": "code",
   "execution_count": 13,
   "metadata": {
    "scrolled": true
   },
   "outputs": [],
   "source": [
    "n=100*2\n",
    "date = []\n",
    "prediction_list = []\n",
    "for i in range(n):\n",
    "    data = df.iloc[:-n+i].copy()\n",
    "    date.append(data.tail(1).index[0])\n",
    "    X = data['close'].values\n",
    "    X = X.astype('float32')\n",
    "    scaler = MinMaxScaler()\n",
    "    X = scaler.fit_transform(X.reshape(-1, 1))\n",
    "\n",
    "    train_size = int(len(X) * 0.9)\n",
    "    test_size = len(X) - train_size\n",
    "    train, test = X[0:train_size,:], X[train_size:len(X),:]\n",
    "\n",
    "    look_back = 60\n",
    "    trainX, trainY = create_dataset(train, look_back)\n",
    "    testX, testY = create_dataset(test, look_back)\n",
    "\n",
    "    trainX = trainX.reshape(trainX.shape[0], 60)\n",
    "    mod1 = XGBRegressor(learning_rate=0.1,random_seed=50)\n",
    "\n",
    "    mod1.fit(trainX,trainY)\n",
    "\n",
    "    prediction = mod1.predict(testX)\n",
    "    prediction = scaler.inverse_transform(prediction.reshape(-1,1))\n",
    "    prediction_list.append(prediction[-1][0])"
   ]
  },
  {
   "cell_type": "code",
   "execution_count": 14,
   "metadata": {},
   "outputs": [],
   "source": [
    "simulated_trading = pd.DataFrame()\n",
    "simulated_trading.index = np.array(date)\n",
    "simulated_trading['open'] = df.loc[simulated_trading.index].open\n",
    "simulated_trading['close'] = df.loc[simulated_trading.index].close\n",
    "simulated_trading['prediction'] = prediction_list\n",
    "\n",
    "simulated_trading['action'] = np.where(simulated_trading['open']>simulated_trading['prediction'],'sell','buy')\n",
    "simulated_trading['gp'] = np.where(simulated_trading.action=='buy',(simulated_trading.close-simulated_trading.open)/simulated_trading.open,\n",
    "                                   (simulated_trading.open-simulated_trading.close)/simulated_trading.close)\n"
   ]
  },
  {
   "cell_type": "code",
   "execution_count": 15,
   "metadata": {},
   "outputs": [],
   "source": [
    "var =[]\n",
    "for i in range(len(simulated_trading.gp.values)):\n",
    "    var.append(np.quantile(simulated_trading.gp.iloc[:i+1],q=0.05))\n",
    "\n",
    "cvar = []\n",
    "for i in range(len(var)):\n",
    "    cvar.append(np.mean(var[:i]))"
   ]
  },
  {
   "cell_type": "code",
   "execution_count": 16,
   "metadata": {},
   "outputs": [],
   "source": [
    "simulated_trading['var'] = var\n",
    "simulated_trading['cvar'] = cvar"
   ]
  },
  {
   "cell_type": "code",
   "execution_count": 24,
   "metadata": {
    "scrolled": true
   },
   "outputs": [],
   "source": [
    "#simulated_trading.to_csv('backtrack_simulation1.csv')"
   ]
  },
  {
   "cell_type": "code",
   "execution_count": 18,
   "metadata": {},
   "outputs": [
    {
     "name": "stdout",
     "output_type": "stream",
     "text": [
      "w/o any risk management: 983.1054683451681\n"
     ]
    }
   ],
   "source": [
    "capital = 1000\n",
    "for i in simulated_trading.gp:\n",
    "    capital*=(1+i)\n",
    "print('w/o any risk management:',capital)"
   ]
  },
  {
   "cell_type": "code",
   "execution_count": 19,
   "metadata": {},
   "outputs": [],
   "source": [
    "gp_var = []\n",
    "for i in range(len(simulated_trading)):\n",
    "    if simulated_trading.gp[i] > simulated_trading['var'][i]:\n",
    "        gp_var.append(simulated_trading.gp[i])\n",
    "    else:\n",
    "        gp_var.append(simulated_trading['var'][i])"
   ]
  },
  {
   "cell_type": "code",
   "execution_count": 20,
   "metadata": {},
   "outputs": [],
   "source": [
    "gp_cvar = []\n",
    "for i in range(len(simulated_trading)):\n",
    "    if simulated_trading.gp[i] > simulated_trading['cvar'][i]:\n",
    "        gp_cvar.append(simulated_trading.gp[i])\n",
    "    else:\n",
    "        gp_cvar.append(simulated_trading['cvar'][i])"
   ]
  },
  {
   "cell_type": "code",
   "execution_count": 21,
   "metadata": {},
   "outputs": [
    {
     "name": "stdout",
     "output_type": "stream",
     "text": [
      "w/ var 1023.7962717240597\n"
     ]
    }
   ],
   "source": [
    "capital = 1000\n",
    "for i in gp_var:\n",
    "    capital*=(1+i)\n",
    "print('w/ var',capital)"
   ]
  },
  {
   "cell_type": "code",
   "execution_count": 22,
   "metadata": {},
   "outputs": [
    {
     "name": "stdout",
     "output_type": "stream",
     "text": [
      "w/ cvar 1038.6764107820995\n"
     ]
    }
   ],
   "source": [
    "capital = 1000\n",
    "for i in gp_cvar[1:]:\n",
    "    capital*=(1+i)\n",
    "print('w/ cvar',capital)"
   ]
  },
  {
   "cell_type": "code",
   "execution_count": 23,
   "metadata": {},
   "outputs": [
    {
     "data": {
      "text/plain": [
       "0.038170581691953906"
      ]
     },
     "execution_count": 23,
     "metadata": {},
     "output_type": "execute_result"
    }
   ],
   "source": [
    "sum(gp_cvar[1:])"
   ]
  }
 ],
 "metadata": {
  "accelerator": "GPU",
  "colab": {
   "gpuType": "T4",
   "provenance": [],
   "toc_visible": true
  },
  "kernelspec": {
   "display_name": "Python 3 (ipykernel)",
   "language": "python",
   "name": "python3"
  },
  "language_info": {
   "codemirror_mode": {
    "name": "ipython",
    "version": 3
   },
   "file_extension": ".py",
   "mimetype": "text/x-python",
   "name": "python",
   "nbconvert_exporter": "python",
   "pygments_lexer": "ipython3",
   "version": "3.11.9"
  }
 },
 "nbformat": 4,
 "nbformat_minor": 4
}
